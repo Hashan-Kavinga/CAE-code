{
 "cells": [
  {
   "cell_type": "code",
   "execution_count": null,
   "metadata": {},
   "outputs": [],
   "source": [
    "#import modules\n",
    "from tensorflow.keras.layers import Input, Dense, Conv2D, MaxPooling2D, UpSampling2D, Flatten, Dropout, Activation\n",
    "from keras.layers.normalization import BatchNormalization\n",
    "from tensorflow.keras.models import Model\n",
    "from keras import backend as K\n",
    "import matplotlib.pyplot as plt\n",
    "import numpy as np\n",
    "\n",
    "from keras.constraints import NonNeg,UnitNorm\n",
    "from keras import regularizers\n",
    "from keras.optimizers import Adam\n",
    "import tensorflow as tf\n",
    "\n",
    "import scipy.ndimage"
   ]
  },
  {
   "cell_type": "code",
   "execution_count": null,
   "metadata": {},
   "outputs": [],
   "source": [
    "# To otain same results\n",
    "from numpy.random import seed\n",
    "seed(1)\n",
    "#from tensorflow import set_random_seed\n",
    "#set_random_seed(2)\n",
    "tf.random.set_seed(2)"
   ]
  },
  {
   "cell_type": "code",
   "execution_count": null,
   "metadata": {},
   "outputs": [],
   "source": [
    "# load pixel values \n",
    "\n",
    "#change accordingly (jsaper:4,198,100 samson:3,156,95)\n",
    "r = 4  # end members\n",
    "n = 198 # spectral bands\n",
    "size = 100 # window size\n",
    "\n",
    "Y = np.loadtxt('jasper.csv', delimiter=',')\n",
    "Y = np.reshape(Y, (n, size, size))\n",
    "x_train = Y.astype('float32') \n",
    "\n",
    "x_train = np.reshape(x_train, (n, size, size, 1))  # channel last\n",
    "y_train = np.reshape(x_train, (n, size*size))\n",
    "\n",
    "\n",
    "#add noise for SNR test\n",
    "#g_noise = np.random.normal(0,0.01,(n, size, size, 1))\n",
    "#x_train = x_train + g_noise\n",
    "\n"
   ]
  },
  {
   "cell_type": "code",
   "execution_count": null,
   "metadata": {},
   "outputs": [],
   "source": [
    "#model\n",
    "input_img = Input(shape=(size, size, 1)) \n",
    "\n",
    "#Encoder cnn part\n",
    "x = Conv2D(16, (3, 3), activation='relu', padding='same', name='Conv1')(input_img)\n",
    "x = MaxPooling2D((2, 2), padding='same')(x)\n",
    "x = Conv2D(8, (3, 3), activation='relu', padding='same', name='Conv2')(x)\n",
    "x = MaxPooling2D((2, 2), padding='same')(x)\n",
    "x = Conv2D(8, (3, 3), activation='relu', padding='same', name='Conv3')(x)\n",
    "x = MaxPooling2D((2, 2), padding='same')(x)\n",
    "\n",
    "\n",
    "# Encoder FC part\n",
    "x = Flatten()(x)\n",
    "x = Dense(9*r, activation='relu')(x)\n",
    "#x = Dropout(0.01)(x)\n",
    "x = Dense(6*r, activation='relu')(x)\n",
    "#x = Dropout(0.01)(x)\n",
    "x = Dense(3*r, activation='relu')(x)\n",
    "\n",
    "# Decoder\n",
    "x = Dropout(0.01)(x)\n",
    "x = Dense(r)(x)\n",
    "#x = BatchNormalization()(x)\n",
    "x = Activation('relu', name='Activation')(x)\n",
    "decoded = Dense(size*size, activation='linear', use_bias=False, trainable=True, kernel_constraint=NonNeg(), kernel_regularizer=regularizers.l2(0.0001))(x)\n",
    "\n",
    "\n",
    "autoencoder = Model(input_img, decoded)\n",
    "\n",
    "#custom loss function\n",
    "#def custom_loss(y_true, y_pred):\n",
    "#    y_true = K.clip(y_true, K.epsilon(), 1)\n",
    "#    y_pred = K.clip(y_pred, K.epsilon(), 1)\n",
    "#    return K.sum(y_true * (K.log(1/y_pred)), axis=-1)\n",
    "\n",
    "autoencoder.compile(optimizer='adam', loss='mean_squared_error')\n",
    "#autoencoder.compile(optimizer='adam', loss=custom_loss)\n",
    "autoencoder.summary()"
   ]
  },
  {
   "cell_type": "code",
   "execution_count": null,
   "metadata": {},
   "outputs": [],
   "source": [
    "#train the model\n",
    "autoencoder.fit(x_train, y_train, epochs=100)"
   ]
  },
  {
   "cell_type": "code",
   "execution_count": null,
   "metadata": {},
   "outputs": [],
   "source": [
    "# get S (abundance) by weights\n",
    "W = autoencoder.get_weights()\n",
    "S = W[-1][:] # need to change this with number of layers. \n",
    "\n",
    "# get A (end members) by activations\n",
    "intermediate_layer_model = Model(inputs=autoencoder.input,outputs=autoencoder.get_layer('Activation').output) #change layer name\n",
    "A = intermediate_layer_model.predict(x_train)\n"
   ]
  },
  {
   "cell_type": "code",
   "execution_count": null,
   "metadata": {},
   "outputs": [],
   "source": [
    "#visualize the output\n",
    "decoded_imgs = autoencoder.predict(x_train).reshape(n,size,size)\n",
    "decoded_imgs.shape\n",
    "\n",
    "n = 10\n",
    "s = 20   # 15 if samson \n",
    "plt.figure(figsize=(40, 8))\n",
    "for i in range(n):\n",
    "    # display original\n",
    "    ax = plt.subplot(2, n, i+1)\n",
    "    plt.imshow(x_train[i*s].reshape(size, size))\n",
    "    plt.gray()\n",
    "    ax.get_xaxis().set_visible(False)\n",
    "    ax.get_yaxis().set_visible(False)\n",
    "\n",
    "    # display reconstruction\n",
    "    ax = plt.subplot(2, n, i + n+1)\n",
    "    plt.imshow(decoded_imgs[i*s].reshape(size, size))\n",
    "    plt.gray()\n",
    "    ax.get_xaxis().set_visible(False)\n",
    "    ax.get_yaxis().set_visible(False)\n",
    "plt.show()"
   ]
  },
  {
   "cell_type": "code",
   "execution_count": null,
   "metadata": {},
   "outputs": [],
   "source": [
    "#save to csv\n",
    "np.savetxt('A_pred.csv', A, delimiter=\",\") # End Members\n",
    "np.savetxt('S_pred.csv', S, delimiter=\",\") # Abundances"
   ]
  },
  {
   "cell_type": "code",
   "execution_count": null,
   "metadata": {},
   "outputs": [],
   "source": [
    "#Visualize the intermeidiate layer outputs for a specific band \n",
    "band = 2\n",
    "band = band-1\n",
    "\n",
    "# Conv1\n",
    "intermediate_layer_conv1 = Model(inputs=autoencoder.input,outputs=autoencoder.get_layer('Conv1').output) #change layer name\n",
    "c1 = intermediate_layer_conv1.predict(x_train)\n",
    "for i in range(16):\n",
    "    #np.savetxt('img\\decode'+str(i+1)+'.csv',decoded_imgs[i,:,:], delimiter=\",\")\n",
    "    plt.imsave('img\\conv1\\c1_'+str(i+1)+'.png',c1[band,:,:,i])\n",
    "\n",
    "# Conv2\n",
    "intermediate_layer_conv2 = Model(inputs=autoencoder.input,outputs=autoencoder.get_layer('Conv2').output) #change layer name\n",
    "c2 = intermediate_layer_conv2.predict(x_train)\n",
    "for i in range(8):\n",
    "    #np.savetxt('img\\decode'+str(i+1)+'.csv',decoded_imgs[i,:,:], delimiter=\",\")\n",
    "    c2_rescaled = scipy.ndimage.zoom(c2[band ,:,:,i], 2, order=1)\n",
    "    plt.imsave('img\\conv2\\c2_'+str(i+1)+'.png',c2_rescaled)\n",
    "    \n",
    "# Conv3\n",
    "intermediate_layer_conv3 = Model(inputs=autoencoder.input,outputs=autoencoder.get_layer('Conv3').output) #change layer name\n",
    "c3 = intermediate_layer_conv3.predict(x_train)\n",
    "for i in range(8):\n",
    "    #np.savetxt('img\\decode'+str(i+1)+'.csv',decoded_imgs[i,:,:], delimiter=\",\")\n",
    "    c3_rescaled = scipy.ndimage.zoom(c3[band ,:,:,i], 4, order=1)\n",
    "    plt.imsave('img\\conv3\\c3_'+str(i+1)+'.png',c3_rescaled)"
   ]
  }
 ],
 "metadata": {
  "kernelspec": {
   "display_name": "Python 3",
   "language": "python",
   "name": "python3"
  },
  "language_info": {
   "codemirror_mode": {
    "name": "ipython",
    "version": 3
   },
   "file_extension": ".py",
   "mimetype": "text/x-python",
   "name": "python",
   "nbconvert_exporter": "python",
   "pygments_lexer": "ipython3",
   "version": "3.7.1"
  }
 },
 "nbformat": 4,
 "nbformat_minor": 4
}
